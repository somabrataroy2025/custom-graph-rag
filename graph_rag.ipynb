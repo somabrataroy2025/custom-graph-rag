{
 "cells": [
  {
   "cell_type": "code",
   "execution_count": 12,
   "id": "5583607f",
   "metadata": {},
   "outputs": [
    {
     "name": "stdout",
     "output_type": "stream",
     "text": [
      "text-embedding-3-small\n"
     ]
    }
   ],
   "source": [
    "from openai import AzureOpenAI\n",
    "import os\n",
    "from dotenv import load_dotenv\n",
    "\n",
    "load_dotenv()\n",
    "\n",
    "client = AzureOpenAI(\n",
    "    azure_endpoint= os.getenv(\"AZURE_OPENAI_ENDPOINT\"),\n",
    "    api_key= os.getenv(\"AZURE_OPENAI_API_KEY\"),\n",
    "    api_version=os.getenv(\"AZURE_OPENAI_API_VERSION\")\n",
    ")\n",
    "\n",
    "embeddingmodel = os.getenv(\"AZURE_OPENAI_EMBEDDING_DEPLOYMENT\")\n",
    "print(embeddingmodel)"
   ]
  },
  {
   "cell_type": "code",
   "execution_count": 14,
   "id": "0f049575",
   "metadata": {},
   "outputs": [],
   "source": [
    "from langchain_openai import AzureChatOpenAI,AzureOpenAIEmbeddings\n",
    "\n",
    "llm = AzureChatOpenAI(  \n",
    "    azure_deployment=\"gpt-4.1\",  # or your deployment\n",
    "    api_version=\"2024-12-01-preview\",  # or your api version\n",
    "    temperature=0,\n",
    "    max_tokens=None,\n",
    "    timeout=None,\n",
    "    max_retries=2,\n",
    ")\n",
    "\n",
    "embedding = AzureOpenAIEmbeddings(\n",
    "    azure_deployment=\"text-embedding-3-small\",\n",
    "    api_version=\"2024-12-01-preview\"\n",
    ")"
   ]
  },
  {
   "cell_type": "code",
   "execution_count": 18,
   "id": "934f34db",
   "metadata": {},
   "outputs": [],
   "source": [
    "chunk_embedding = embedding.embed_query(\"What is Pollution\")"
   ]
  },
  {
   "cell_type": "code",
   "execution_count": null,
   "id": "af536bc1",
   "metadata": {},
   "outputs": [],
   "source": [
    "from langchain_community.vectorstores import Neo4jVector\n",
    "\n",
    "obj_graph = Neo4jVector.from_existing_graph(\n",
    "    \n",
    ")"
   ]
  }
 ],
 "metadata": {
  "kernelspec": {
   "display_name": ".ragenv",
   "language": "python",
   "name": "python3"
  },
  "language_info": {
   "codemirror_mode": {
    "name": "ipython",
    "version": 3
   },
   "file_extension": ".py",
   "mimetype": "text/x-python",
   "name": "python",
   "nbconvert_exporter": "python",
   "pygments_lexer": "ipython3",
   "version": "3.13.1"
  }
 },
 "nbformat": 4,
 "nbformat_minor": 5
}
